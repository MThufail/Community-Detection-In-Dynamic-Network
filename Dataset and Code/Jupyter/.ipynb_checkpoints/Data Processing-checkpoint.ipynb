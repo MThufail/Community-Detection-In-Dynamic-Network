{
 "cells": [
  {
   "cell_type": "markdown",
   "metadata": {},
   "source": [
    "# Global Terrorism Attacks - Predicting The Responsible Group"
   ]
  },
  {
   "cell_type": "markdown",
   "metadata": {},
   "source": [
    "**Table of Contents**\n",
    "<div id=\"toc\"></div>"
   ]
  },
  {
   "cell_type": "markdown",
   "metadata": {},
   "source": [
    "## Load data"
   ]
  },
  {
   "cell_type": "code",
   "execution_count": 1,
   "metadata": {},
   "outputs": [
    {
     "ename": "ModuleNotFoundError",
     "evalue": "No module named 'ConfigParser'",
     "output_type": "error",
     "traceback": [
      "\u001b[1;31m---------------------------------------------------------------------------\u001b[0m",
      "\u001b[1;31mModuleNotFoundError\u001b[0m                       Traceback (most recent call last)",
      "\u001b[1;32m<ipython-input-1-fba3da40d9fb>\u001b[0m in \u001b[0;36m<module>\u001b[1;34m\u001b[0m\n\u001b[0;32m      7\u001b[0m \u001b[1;32mimport\u001b[0m \u001b[0mos\u001b[0m\u001b[1;33m.\u001b[0m\u001b[0mpath\u001b[0m\u001b[1;33m\u001b[0m\u001b[1;33m\u001b[0m\u001b[0m\n\u001b[0;32m      8\u001b[0m \u001b[1;33m\u001b[0m\u001b[0m\n\u001b[1;32m----> 9\u001b[1;33m \u001b[1;32mimport\u001b[0m \u001b[0mConfigParser\u001b[0m\u001b[1;33m\u001b[0m\u001b[1;33m\u001b[0m\u001b[0m\n\u001b[0m\u001b[0;32m     10\u001b[0m \u001b[0mconfig\u001b[0m \u001b[1;33m=\u001b[0m \u001b[0mConfigParser\u001b[0m\u001b[1;33m.\u001b[0m\u001b[0mConfigParser\u001b[0m\u001b[1;33m(\u001b[0m\u001b[1;33m)\u001b[0m\u001b[1;33m\u001b[0m\u001b[1;33m\u001b[0m\u001b[0m\n\u001b[0;32m     11\u001b[0m \u001b[0mconfig\u001b[0m\u001b[1;33m.\u001b[0m\u001b[0mread\u001b[0m\u001b[1;33m(\u001b[0m\u001b[1;34m'config.ini'\u001b[0m\u001b[1;33m)\u001b[0m\u001b[1;33m\u001b[0m\u001b[1;33m\u001b[0m\u001b[0m\n",
      "\u001b[1;31mModuleNotFoundError\u001b[0m: No module named 'ConfigParser'"
     ]
    }
   ],
   "source": [
    "%matplotlib inline\n",
    "\n",
    "from collections import Counter\n",
    "import pandas as pd\n",
    "import csv\n",
    "from sklearn import preprocessing\n",
    "import os.path\n",
    "\n",
    "import ConfigParser\n",
    "config = ConfigParser.ConfigParser()\n",
    "config.read('config.ini')\n",
    "gtdConvertedFilename = 'gtd_converted.csv'\n",
    "\n",
    "if not os.path.isfile(gtdConvertedFilename):\n",
    "    %run CreateCSVFile.py\n",
    "\n",
    "gtd = pd.read_csv(gtdConvertedFilename, encoding='latin1', low_memory=False)\n",
    "gtd.tail(3)"
   ]
  },
  {
   "cell_type": "markdown",
   "metadata": {},
   "source": [
    "## Examine Data"
   ]
  },
  {
   "cell_type": "code",
   "execution_count": 4,
   "metadata": {},
   "outputs": [
    {
     "name": "stdout",
     "output_type": "stream",
     "text": [
      "No. of groups = 3454\n",
      "Most common group, Unknown = 45.0000%\n"
     ]
    },
    {
     "data": {
      "text/plain": [
       "[(u'Unknown', 78306),\n",
       " (u'Taliban', 6575),\n",
       " (u'Shining Path (SL)', 4551),\n",
       " (u'Islamic State of Iraq and the Levant (ISIL)', 4287),\n",
       " (u'Farabundo Marti National Liberation Front (FMLN)', 3351)]"
      ]
     },
     "execution_count": 4,
     "metadata": {},
     "output_type": "execute_result"
    }
   ],
   "source": [
    "target = gtd['gname']\n",
    "gcount = Counter(target)\n",
    "print('No. of groups = {}'.format(len(gcount)))\n",
    "g1 = gcount.most_common(1)[0]\n",
    "print('Most common group, {} = {:.4f}%'.format(g1[0], 100 * g1[1] / target.size))\n",
    "gcount.most_common(5)"
   ]
  },
  {
   "cell_type": "markdown",
   "metadata": {},
   "source": [
    "## Preprocessing"
   ]
  },
  {
   "cell_type": "markdown",
   "metadata": {},
   "source": [
    "### Filter Groups"
   ]
  },
  {
   "cell_type": "code",
   "execution_count": 6,
   "metadata": {},
   "outputs": [
    {
     "data": {
      "text/plain": [
       "(88657, 136)"
      ]
     },
     "execution_count": 6,
     "metadata": {},
     "output_type": "execute_result"
    }
   ],
   "source": [
    "from collections import Counter\n",
    "\n",
    "group_count = Counter(gtd['gname'])\n",
    "# Remove groups with 3 attacks or less\n",
    "filtered_groups = [group for group, counter in group_count.items() if counter > 3]\n",
    "# Remove 'Unknown'\n",
    "filtered_groups.remove('Unknown')\n",
    "\n",
    "gtd = gtd[gtd['gname'].isin(filtered_groups)]\n",
    "\n",
    "gtd.shape"
   ]
  },
  {
   "cell_type": "markdown",
   "metadata": {},
   "source": [
    "### Define Features"
   ]
  },
  {
   "cell_type": "code",
   "execution_count": 7,
   "metadata": {},
   "outputs": [
    {
     "data": {
      "text/html": [
       "<div>\n",
       "<style>\n",
       "    .dataframe thead tr:only-child th {\n",
       "        text-align: right;\n",
       "    }\n",
       "\n",
       "    .dataframe thead th {\n",
       "        text-align: left;\n",
       "    }\n",
       "\n",
       "    .dataframe tbody tr th {\n",
       "        vertical-align: top;\n",
       "    }\n",
       "</style>\n",
       "<table border=\"1\" class=\"dataframe\">\n",
       "  <thead>\n",
       "    <tr style=\"text-align: right;\">\n",
       "      <th></th>\n",
       "      <th>gname</th>\n",
       "      <th>iyear</th>\n",
       "      <th>country</th>\n",
       "      <th>attacktype1</th>\n",
       "      <th>weaptype1</th>\n",
       "      <th>targtype1</th>\n",
       "    </tr>\n",
       "  </thead>\n",
       "  <tbody>\n",
       "    <tr>\n",
       "      <th>170345</th>\n",
       "      <td>Boko Haram</td>\n",
       "      <td>2016</td>\n",
       "      <td>146</td>\n",
       "      <td>9</td>\n",
       "      <td>13</td>\n",
       "      <td>4</td>\n",
       "    </tr>\n",
       "    <tr>\n",
       "      <th>170347</th>\n",
       "      <td>Lord's Resistance Army (LRA)</td>\n",
       "      <td>2016</td>\n",
       "      <td>229</td>\n",
       "      <td>6</td>\n",
       "      <td>13</td>\n",
       "      <td>14</td>\n",
       "    </tr>\n",
       "    <tr>\n",
       "      <th>170349</th>\n",
       "      <td>Sudan Liberation Movement</td>\n",
       "      <td>2016</td>\n",
       "      <td>195</td>\n",
       "      <td>2</td>\n",
       "      <td>5</td>\n",
       "      <td>14</td>\n",
       "    </tr>\n",
       "  </tbody>\n",
       "</table>\n",
       "</div>"
      ],
      "text/plain": [
       "                               gname  iyear  country  attacktype1  weaptype1  \\\n",
       "170345                    Boko Haram   2016      146            9         13   \n",
       "170347  Lord's Resistance Army (LRA)   2016      229            6         13   \n",
       "170349     Sudan Liberation Movement   2016      195            2          5   \n",
       "\n",
       "        targtype1  \n",
       "170345          4  \n",
       "170347         14  \n",
       "170349         14  "
      ]
     },
     "execution_count": 7,
     "metadata": {},
     "output_type": "execute_result"
    }
   ],
   "source": [
    "if config.getboolean('Booleans', 'UseLessFeatures') == True:\n",
    "    columns_to_keep = ['gname', 'iyear', 'country', 'attacktype1', 'weaptype1', 'targtype1']\n",
    "else:\n",
    "    columns_to_keep = ['gname', 'iyear', 'country', 'crit1', 'crit2', 'crit3', 'attacktype1', 'targtype1',\n",
    "                       'targsubtype1','weaptype1', 'weapsubtype1', 'ransom']\n",
    "    \n",
    "gtd = gtd[columns_to_keep]\n",
    "gtd.tail(3)"
   ]
  },
  {
   "cell_type": "markdown",
   "metadata": {},
   "source": [
    "### Transform Target"
   ]
  },
  {
   "cell_type": "code",
   "execution_count": 8,
   "metadata": {
    "collapsed": true
   },
   "outputs": [],
   "source": [
    "gtd.apply(preprocessing.LabelEncoder().fit_transform);"
   ]
  },
  {
   "cell_type": "markdown",
   "metadata": {},
   "source": [
    "### Fill NaNs"
   ]
  },
  {
   "cell_type": "code",
   "execution_count": 9,
   "metadata": {},
   "outputs": [
    {
     "data": {
      "text/html": [
       "<div>\n",
       "<style>\n",
       "    .dataframe thead tr:only-child th {\n",
       "        text-align: right;\n",
       "    }\n",
       "\n",
       "    .dataframe thead th {\n",
       "        text-align: left;\n",
       "    }\n",
       "\n",
       "    .dataframe tbody tr th {\n",
       "        vertical-align: top;\n",
       "    }\n",
       "</style>\n",
       "<table border=\"1\" class=\"dataframe\">\n",
       "  <thead>\n",
       "    <tr style=\"text-align: right;\">\n",
       "      <th></th>\n",
       "      <th>gname</th>\n",
       "      <th>iyear</th>\n",
       "      <th>country</th>\n",
       "      <th>attacktype1</th>\n",
       "      <th>weaptype1</th>\n",
       "      <th>targtype1</th>\n",
       "    </tr>\n",
       "  </thead>\n",
       "  <tbody>\n",
       "    <tr>\n",
       "      <th>170345</th>\n",
       "      <td>Boko Haram</td>\n",
       "      <td>2016</td>\n",
       "      <td>146</td>\n",
       "      <td>9</td>\n",
       "      <td>13</td>\n",
       "      <td>4</td>\n",
       "    </tr>\n",
       "    <tr>\n",
       "      <th>170347</th>\n",
       "      <td>Lord's Resistance Army (LRA)</td>\n",
       "      <td>2016</td>\n",
       "      <td>229</td>\n",
       "      <td>6</td>\n",
       "      <td>13</td>\n",
       "      <td>14</td>\n",
       "    </tr>\n",
       "    <tr>\n",
       "      <th>170349</th>\n",
       "      <td>Sudan Liberation Movement</td>\n",
       "      <td>2016</td>\n",
       "      <td>195</td>\n",
       "      <td>2</td>\n",
       "      <td>5</td>\n",
       "      <td>14</td>\n",
       "    </tr>\n",
       "  </tbody>\n",
       "</table>\n",
       "</div>"
      ],
      "text/plain": [
       "                               gname  iyear  country  attacktype1  weaptype1  \\\n",
       "170345                    Boko Haram   2016      146            9         13   \n",
       "170347  Lord's Resistance Army (LRA)   2016      229            6         13   \n",
       "170349     Sudan Liberation Movement   2016      195            2          5   \n",
       "\n",
       "        targtype1  \n",
       "170345          4  \n",
       "170347         14  \n",
       "170349         14  "
      ]
     },
     "execution_count": 9,
     "metadata": {},
     "output_type": "execute_result"
    }
   ],
   "source": [
    "gtd=gtd.fillna(0) #TODO: 0?\n",
    "\n",
    "gtd.tail(3)"
   ]
  },
  {
   "cell_type": "markdown",
   "metadata": {},
   "source": [
    "## Save"
   ]
  },
  {
   "cell_type": "code",
   "execution_count": 10,
   "metadata": {
    "collapsed": true
   },
   "outputs": [],
   "source": [
    "if config.getboolean('Booleans', 'UseLessFeatures') == True:\n",
    "    csvFileName = 'gtd_processed_5features.csv'\n",
    "else:\n",
    "    csvFileName = 'gtd_processed_11features.csv'"
   ]
  },
  {
   "cell_type": "code",
   "execution_count": 7,
   "metadata": {
    "collapsed": true
   },
   "outputs": [],
   "source": [
    "gtd.to_csv(csvFileName, encoding='utf-8', index=False)"
   ]
  }
 ],
 "metadata": {
  "kernelspec": {
   "display_name": "Python 3",
   "language": "python",
   "name": "python3"
  },
  "language_info": {
   "codemirror_mode": {
    "name": "ipython",
    "version": 3
   },
   "file_extension": ".py",
   "mimetype": "text/x-python",
   "name": "python",
   "nbconvert_exporter": "python",
   "pygments_lexer": "ipython3",
   "version": "3.7.3"
  }
 },
 "nbformat": 4,
 "nbformat_minor": 2
}
